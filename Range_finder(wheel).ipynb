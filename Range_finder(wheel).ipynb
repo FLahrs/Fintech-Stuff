{
  "nbformat": 4,
  "nbformat_minor": 0,
  "metadata": {
    "colab": {
      "provenance": []
    },
    "kernelspec": {
      "name": "python3",
      "display_name": "Python 3"
    },
    "language_info": {
      "name": "python"
    }
  },
  "cells": [
    {
      "cell_type": "code",
      "source": [
        "!pip install yfinance --upgrade --quiet\n",
        "import yfinance as yf\n",
        "import pandas as pd\n",
        "import matplotlib.pyplot as plt\n",
        "\n",
        "def get_stock_data(ticker):\n",
        "    stock = yf.Ticker(ticker)\n",
        "\n",
        "    data = stock.history(period=\"2mo\")\n",
        "    return data[['Close', 'High', 'Low']]\n",
        "\n",
        "def calculate_two_week_range(stock_data):\n",
        "\n",
        "    last_10_days = stock_data.tail(10)\n",
        "\n",
        "\n",
        "    high_2w = last_10_days['High'].max()\n",
        "    low_2w = last_10_days['Low'].min()\n",
        "\n",
        "    return high_2w, low_2w\n",
        "\n",
        "def calculate_target_prices(high_2w, low_2w, buffer=0.02):\n",
        "    lower_target = round(low_2w * (1 - buffer), 2)\n",
        "    higher_target = round(high_2w * (1 + buffer), 2)\n",
        "\n",
        "    return lower_target, higher_target\n",
        "\n",
        "ticker = \"AAPL\"\n",
        "stock_data = get_stock_data(ticker)\n",
        "\n",
        "high_2w, low_2w = calculate_two_week_range(stock_data)\n",
        "lower_target, higher_target = calculate_target_prices(high_2w, low_2w)\n",
        "\n",
        "\n",
        "print(f\"High 2 Weeks Ago: {high_2w:.2f}\")\n",
        "print(f\"Low 2 Weeks Ago: {low_2w:.2f}\")\n",
        "print(f\"Suggested Put Strike (Lower Target): {lower_target}\")\n",
        "print(f\"Suggested Call Strike (Higher Target): {higher_target}\")\n"
      ],
      "metadata": {
        "colab": {
          "base_uri": "https://localhost:8080/"
        },
        "id": "SsCrpxm2EDsa",
        "outputId": "447b611a-39ad-4a05-b299-8f07f1241720"
      },
      "execution_count": 6,
      "outputs": [
        {
          "output_type": "stream",
          "name": "stdout",
          "text": [
            "High 2 Weeks Ago: 244.98\n",
            "Low 2 Weeks Ago: 218.45\n",
            "Suggested Put Strike (Lower Target): 214.08\n",
            "Suggested Call Strike (Higher Target): 249.88\n"
          ]
        }
      ]
    }
  ]
}